{
 "cells": [
  {
   "cell_type": "code",
   "execution_count": 1,
   "id": "e7c5bc25",
   "metadata": {},
   "outputs": [
    {
     "name": "stdout",
     "output_type": "stream",
     "text": [
      "✅ Dataset chargé avec réduction : 15 classes\n",
      "Train = 1000 images\n",
      "Val   = 300 images\n"
     ]
    }
   ],
   "source": [
    "import torch\n",
    "import torch.nn as nn\n",
    "import torch.optim as optim\n",
    "from torchvision import datasets, models, transforms\n",
    "from torch.utils.data import DataLoader, Subset\n",
    "import matplotlib.pyplot as plt\n",
    "import numpy as np\n",
    "import time\n",
    "\n",
    "# ==============================\n",
    "# 0. Préparation du dataset\n",
    "# ==============================\n",
    "\n",
    "data_dir = r\"C:\\Users\\pc\\Downloads\\PlantVillage_split\"  # ton chemin\n",
    "\n",
    "data_transforms = {\n",
    "    \"train\": transforms.Compose([\n",
    "        transforms.Resize((224, 224)),\n",
    "        transforms.RandomHorizontalFlip(),\n",
    "        transforms.ToTensor(),\n",
    "        transforms.Normalize([0.485, 0.456, 0.406],\n",
    "                             [0.229, 0.224, 0.225])\n",
    "    ]),\n",
    "    \"val\": transforms.Compose([\n",
    "        transforms.Resize((224, 224)),\n",
    "        transforms.ToTensor(),\n",
    "        transforms.Normalize([0.485, 0.456, 0.406],\n",
    "                             [0.229, 0.224, 0.225])\n",
    "    ]),\n",
    "}\n",
    "\n",
    "# Chargement complet\n",
    "image_datasets = {\n",
    "    x: datasets.ImageFolder(root=f\"{data_dir}/{x}\", transform=data_transforms[x])\n",
    "    for x in [\"train\", \"val\"]\n",
    "}\n",
    "\n",
    "# ==============================\n",
    "# ⚡ Réduction du dataset\n",
    "# ==============================\n",
    "\n",
    "train_subset = Subset(image_datasets[\"train\"],\n",
    "                      np.random.choice(len(image_datasets[\"train\"]), 1000, replace=False))\n",
    "val_subset = Subset(image_datasets[\"val\"],\n",
    "                    np.random.choice(len(image_datasets[\"val\"]), 300, replace=False))\n",
    "\n",
    "dataloaders = {\n",
    "    \"train\": DataLoader(train_subset, batch_size=16, shuffle=True),\n",
    "    \"val\": DataLoader(val_subset, batch_size=16, shuffle=True)\n",
    "}\n",
    "\n",
    "dataset_sizes = {\"train\": len(train_subset), \"val\": len(val_subset)}\n",
    "class_names = image_datasets[\"train\"].classes\n",
    "device = torch.device(\"cuda:0\" if torch.cuda.is_available() else \"cpu\")\n",
    "\n",
    "print(\"✅ Dataset chargé avec réduction :\", len(class_names), \"classes\")\n",
    "print(\"Train =\", dataset_sizes[\"train\"], \"images\")\n",
    "print(\"Val   =\", dataset_sizes[\"val\"], \"images\")\n",
    "\n",
    "# ==============================\n",
    "# 1. Fonction d’entraînement\n",
    "# ==============================\n",
    "\n",
    "def train_model(model, criterion, optimizer, num_epochs=2):\n",
    "    since = time.time()\n",
    "    train_acc, val_acc = [], []\n",
    "\n",
    "    for epoch in range(num_epochs):\n",
    "        print(f\"\\nEpoch {epoch+1}/{num_epochs}\")\n",
    "\n",
    "        for phase in [\"train\", \"val\"]:\n",
    "            if phase == \"train\":\n",
    "                model.train()\n",
    "            else:\n",
    "                model.eval()\n",
    "\n",
    "            running_corrects = 0\n",
    "\n",
    "            for inputs, labels in dataloaders[phase]:\n",
    "                inputs, labels = inputs.to(device), labels.to(device)\n",
    "\n",
    "                optimizer.zero_grad()\n",
    "\n",
    "                with torch.set_grad_enabled(phase == \"train\"):\n",
    "                    outputs = model(inputs)\n",
    "                    _, preds = torch.max(outputs, 1)\n",
    "                    loss = criterion(outputs, labels)\n",
    "\n",
    "                    if phase == \"train\":\n",
    "                        loss.backward()\n",
    "                        optimizer.step()\n",
    "\n",
    "                running_corrects += torch.sum(preds == labels.data)\n",
    "\n",
    "            epoch_acc = running_corrects.double() / dataset_sizes[phase]\n",
    "            print(f\"{phase} Acc: {epoch_acc:.4f}\")\n",
    "\n",
    "            if phase == \"train\":\n",
    "                train_acc.append(epoch_acc.cpu())\n",
    "            else:\n",
    "                val_acc.append(epoch_acc.cpu())\n",
    "\n",
    "    time_elapsed = time.time() - since\n",
    "    print(f\"⏱ Training complete in {time_elapsed//60:.0f}m {time_elapsed%60:.0f}s\")\n",
    "    return train_acc, val_acc\n",
    "\n",
    "# ==============================\n",
    "# 2. Initialisation des modèles\n",
    "# ==============================\n",
    "\n",
    "def initialize_model(model_name, num_classes, pretrained=True):\n",
    "    if model_name == \"vgg19\":\n",
    "        model = models.vgg19(pretrained=pretrained)\n",
    "        model.classifier[6] = nn.Linear(4096, num_classes)\n",
    "\n",
    "    elif model_name == \"resnet34\":\n",
    "        model = models.resnet34(pretrained=pretrained)\n",
    "        model.fc = nn.Linear(model.fc.in_features, num_classes)\n",
    "\n",
    "    elif model_name == \"densenet121\":\n",
    "        model = models.densenet121(pretrained=pretrained)\n",
    "        model.classifier = nn.Linear(model.classifier.in_features, num_classes)\n",
    "\n",
    "    elif model_name == \"efficientnet_b0\":\n",
    "        model = models.efficientnet_b0(pretrained=pretrained)\n",
    "        model.classifier[1] = nn.Linear(model.classifier[1].in_features, num_classes)\n",
    "\n",
    "    elif model_name == \"vit_b_16\":\n",
    "        model = models.vit_b_16(pretrained=pretrained)\n",
    "        model.heads.head = nn.Linear(model.heads.head.in_features, num_classes)\n",
    "\n",
    "    else:\n",
    "        raise ValueError(\"Modèle inconnu\")\n",
    "\n",
    "    return model.to(device)\n"
   ]
  },
  {
   "cell_type": "code",
   "execution_count": 2,
   "id": "5b5b1efa",
   "metadata": {},
   "outputs": [],
   "source": [
    "# 🚀 Exercice 1 : VGG19, ResNet34, DenseNet121 (from scratch)\n",
    "# ======================================================\n",
    "\n",
    "def exercice1(model_name):\n",
    "    print(f\"\\n=== Exercice 1 : {model_name.upper()} (from scratch) ===\")\n",
    "    model = initialize_model(model_name, num_classes=len(class_names), pretrained=False)\n",
    "    criterion = nn.CrossEntropyLoss()\n",
    "    optimizer = optim.Adam(model.parameters(), lr=0.001)\n",
    "    train_acc, val_acc = train_model(model, criterion, optimizer, num_epochs=2)\n",
    "    return train_acc, val_acc\n"
   ]
  },
  {
   "cell_type": "code",
   "execution_count": 3,
   "id": "a1d9de6c",
   "metadata": {},
   "outputs": [],
   "source": [
    "# 🚀 Exercice 2 : VGG19, ResNet34, DenseNet121 (pré-entraînés ImageNet)\n",
    "# ======================================================\n",
    "\n",
    "def exercice2(model_name):\n",
    "    print(f\"\\n=== Exercice 2 : {model_name.upper()} (pré-entraîné) ===\")\n",
    "    model = initialize_model(model_name, num_classes=len(class_names), pretrained=True)\n",
    "    criterion = nn.CrossEntropyLoss()\n",
    "    optimizer = optim.Adam(model.parameters(), lr=0.0001)\n",
    "    train_acc, val_acc = train_model(model, criterion, optimizer, num_epochs=2)\n",
    "    return train_acc, val_acc"
   ]
  },
  {
   "cell_type": "code",
   "execution_count": 4,
   "id": "5f95f423",
   "metadata": {},
   "outputs": [],
   "source": [
    "# 🚀 Exercice 3 : EfficientNet et ViT (pré-entraînés)\n",
    "# ======================================================\n",
    "\n",
    "def exercice3(model_name):\n",
    "    print(f\"\\n=== Exercice 3 : {model_name.upper()} (pré-entraîné) ===\")\n",
    "    model = initialize_model(model_name, num_classes=len(class_names), pretrained=True)\n",
    "    criterion = nn.CrossEntropyLoss()\n",
    "    optimizer = optim.Adam(model.parameters(), lr=0.0001)\n",
    "    train_acc, val_acc = train_model(model, criterion, optimizer, num_epochs=2)\n",
    "    return train_acc, val_acc"
   ]
  },
  {
   "cell_type": "code",
   "execution_count": 5,
   "id": "ce7c1668",
   "metadata": {},
   "outputs": [
    {
     "name": "stdout",
     "output_type": "stream",
     "text": [
      "\n",
      "=== Exercice 1 : RESNET34 (from scratch) ===\n"
     ]
    },
    {
     "name": "stderr",
     "output_type": "stream",
     "text": [
      "C:\\Users\\pc\\anaconda3\\lib\\site-packages\\torchvision\\models\\_utils.py:208: UserWarning: The parameter 'pretrained' is deprecated since 0.13 and may be removed in the future, please use 'weights' instead.\n",
      "  warnings.warn(\n",
      "C:\\Users\\pc\\anaconda3\\lib\\site-packages\\torchvision\\models\\_utils.py:223: UserWarning: Arguments other than a weight enum or `None` for 'weights' are deprecated since 0.13 and may be removed in the future. The current behavior is equivalent to passing `weights=None`.\n",
      "  warnings.warn(msg)\n"
     ]
    },
    {
     "name": "stdout",
     "output_type": "stream",
     "text": [
      "\n",
      "Epoch 1/2\n",
      "train Acc: 0.3110\n",
      "val Acc: 0.2300\n",
      "\n",
      "Epoch 2/2\n",
      "train Acc: 0.4010\n",
      "val Acc: 0.4633\n",
      "⏱ Training complete in 8m 43s\n"
     ]
    }
   ],
   "source": [
    "train_acc, val_acc = exercice1(\"resnet34\")   # ou \"vgg19\" / \"densenet121\"\n"
   ]
  },
  {
   "cell_type": "code",
   "execution_count": 6,
   "id": "732a8cd7",
   "metadata": {},
   "outputs": [
    {
     "name": "stdout",
     "output_type": "stream",
     "text": [
      "\n",
      "=== Exercice 2 : RESNET34 (pré-entraîné) ===\n"
     ]
    },
    {
     "name": "stderr",
     "output_type": "stream",
     "text": [
      "C:\\Users\\pc\\anaconda3\\lib\\site-packages\\torchvision\\models\\_utils.py:223: UserWarning: Arguments other than a weight enum or `None` for 'weights' are deprecated since 0.13 and may be removed in the future. The current behavior is equivalent to passing `weights=ResNet34_Weights.IMAGENET1K_V1`. You can also use `weights=ResNet34_Weights.DEFAULT` to get the most up-to-date weights.\n",
      "  warnings.warn(msg)\n"
     ]
    },
    {
     "name": "stdout",
     "output_type": "stream",
     "text": [
      "Downloading: \"https://download.pytorch.org/models/resnet34-b627a593.pth\" to C:\\Users\\pc/.cache\\torch\\hub\\checkpoints\\resnet34-b627a593.pth\n"
     ]
    },
    {
     "name": "stderr",
     "output_type": "stream",
     "text": [
      "100%|██████████████████████████████████████████████████████████████████████████████| 83.3M/83.3M [07:59<00:00, 182kB/s]\n"
     ]
    },
    {
     "name": "stdout",
     "output_type": "stream",
     "text": [
      "\n",
      "Epoch 1/2\n",
      "train Acc: 0.6670\n",
      "val Acc: 0.9000\n",
      "\n",
      "Epoch 2/2\n",
      "train Acc: 0.9340\n",
      "val Acc: 0.8967\n",
      "⏱ Training complete in 8m 21s\n"
     ]
    }
   ],
   "source": [
    "train_acc, val_acc = exercice2(\"resnet34\")   # ou \"vgg19\" / \"densenet121\"\n"
   ]
  },
  {
   "cell_type": "code",
   "execution_count": 7,
   "id": "b131259c",
   "metadata": {},
   "outputs": [
    {
     "name": "stdout",
     "output_type": "stream",
     "text": [
      "\n",
      "=== Exercice 3 : EFFICIENTNET_B0 (pré-entraîné) ===\n",
      "Downloading: \"https://download.pytorch.org/models/efficientnet_b0_rwightman-7f5810bc.pth\" to C:\\Users\\pc/.cache\\torch\\hub\\checkpoints\\efficientnet_b0_rwightman-7f5810bc.pth\n"
     ]
    },
    {
     "name": "stderr",
     "output_type": "stream",
     "text": [
      "C:\\Users\\pc\\anaconda3\\lib\\site-packages\\torchvision\\models\\_utils.py:223: UserWarning: Arguments other than a weight enum or `None` for 'weights' are deprecated since 0.13 and may be removed in the future. The current behavior is equivalent to passing `weights=EfficientNet_B0_Weights.IMAGENET1K_V1`. You can also use `weights=EfficientNet_B0_Weights.DEFAULT` to get the most up-to-date weights.\n",
      "  warnings.warn(msg)\n",
      "100%|██████████████████████████████████████████████████████████████████████████████| 20.5M/20.5M [02:31<00:00, 142kB/s]\n"
     ]
    },
    {
     "name": "stdout",
     "output_type": "stream",
     "text": [
      "\n",
      "Epoch 1/2\n",
      "train Acc: 0.4550\n",
      "val Acc: 0.7367\n",
      "\n",
      "Epoch 2/2\n",
      "train Acc: 0.7430\n",
      "val Acc: 0.8233\n",
      "⏱ Training complete in 5m 13s\n"
     ]
    }
   ],
   "source": [
    "train_acc, val_acc = exercice3(\"efficientnet_b0\")   # ou \"vit_b_16\"\n"
   ]
  },
  {
   "cell_type": "code",
   "execution_count": 8,
   "id": "7e8857d1",
   "metadata": {},
   "outputs": [
    {
     "data": {
      "image/png": "[encoded data removed]",
      "text/plain": [
       "<Figure size 432x288 with 1 Axes>"
      ]
     },
     "metadata": {
      "needs_background": "light"
     },
     "output_type": "display_data"
    }
   ],
   "source": [
    "plt.plot(train_acc, label=\"Train Acc\")\n",
    "plt.plot(val_acc, label=\"Val Acc\")\n",
    "plt.title(\"Performance du modèle\")\n",
    "plt.legend()\n",
    "plt.show()\n"
   ]
  },
  {
   "cell_type": "code",
   "execution_count": null,
   "id": "bdf1826c",
   "metadata": {},
   "outputs": [],
   "source": []
  },
  {
   "cell_type": "code",
   "execution_count": null,
   "id": "2f210e85",
   "metadata": {},
   "outputs": [],
   "source": []
  }
 ],
 "metadata": {
  "kernelspec": {
   "display_name": "Python 3 (ipykernel)",
   "language": "python",
   "name": "python3"
  },
  "language_info": {
   "codemirror_mode": {
    "name": "ipython",
    "version": 3
   },
   "file_extension": ".py",
   "mimetype": "text/x-python",
   "name": "python",
   "nbconvert_exporter": "python",
   "pygments_lexer": "ipython3",
   "version": "3.9.7"
  }
 },
 "nbformat": 4,
 "nbformat_minor": 5
}
